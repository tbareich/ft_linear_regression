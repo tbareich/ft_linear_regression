{
 "cells": [
  {
   "cell_type": "markdown",
   "metadata": {},
   "source": [
    "Libraries"
   ]
  },
  {
   "cell_type": "code",
   "execution_count": null,
   "metadata": {},
   "outputs": [],
   "source": [
    "import matplotlib.pyplot as plt\n",
    "import numpy as np\n",
    "import csv\n"
   ]
  },
  {
   "cell_type": "markdown",
   "metadata": {},
   "source": [
    "Ploting configurations."
   ]
  },
  {
   "cell_type": "code",
   "execution_count": null,
   "metadata": {},
   "outputs": [],
   "source": [
    "%matplotlib inline\n",
    "%config InlineBackend.figure_formats = ['svg']\n",
    "plt.rcParams.update({\n",
    "    'figure.figsize': (8, 6),\n",
    "    'figure.facecolor': 'white',\n",
    "    'axes.titlesize': 'x-large',\n",
    "    'axes.labelsize': 'large',\n",
    "    'xtick.labelsize': 'medium',\n",
    "    'ytick.labelsize': 'medium',\n",
    "    'axes.grid': True,\n",
    "    'grid.linewidth': 0.5,\n",
    "    'grid.alpha': 0.3\n",
    "})\n"
   ]
  },
  {
   "cell_type": "markdown",
   "metadata": {},
   "source": [
    "Load data from data.csv file.\n"
   ]
  },
  {
   "cell_type": "code",
   "execution_count": null,
   "metadata": {},
   "outputs": [],
   "source": [
    "X = np.array([])\n",
    "Y = np.array([])\n",
    "with open(\"data.csv\") as csv_file:\n",
    "    csv_reader = csv.reader(csv_file)\n",
    "    i = 0\n",
    "    for row in csv_reader:\n",
    "        if i != 0:\n",
    "            X = np.append(X, float(row[0]))\n",
    "            Y = np.append(Y, float(row[1]))\n",
    "        i += 1\n",
    "plt.title(\"Car mileage versus car price\")\n",
    "plt.scatter(X, Y)\n",
    "plt.xlabel(\"Mileage (Km)\")\n",
    "plt.ylabel(\"Price ($)\")\n",
    "plt.xlim(0)\n",
    "plt.ylim(0)\n",
    "plt.show()\n"
   ]
  },
  {
   "cell_type": "markdown",
   "metadata": {},
   "source": [
    "Initialize parameters.\n"
   ]
  },
  {
   "cell_type": "code",
   "execution_count": null,
   "metadata": {},
   "outputs": [],
   "source": [
    "theta_0 = 0.0\n",
    "theta_1 = 0.0\n",
    "learning_rate = 0.1\n",
    "m = len(X)\n",
    "epochs = 700\n"
   ]
  },
  {
   "cell_type": "markdown",
   "metadata": {},
   "source": [
    "Define our linear model.\n"
   ]
  },
  {
   "cell_type": "code",
   "execution_count": null,
   "metadata": {},
   "outputs": [],
   "source": [
    "def f(X):\n",
    "    return theta_0 + theta_1 * X\n"
   ]
  },
  {
   "cell_type": "markdown",
   "metadata": {},
   "source": [
    "Data Normalization.\n"
   ]
  },
  {
   "cell_type": "code",
   "execution_count": null,
   "metadata": {},
   "outputs": [],
   "source": [
    "maxX = max(X)\n",
    "maxY = max(Y)\n",
    "X = X / maxX\n",
    "Y = Y / maxY\n"
   ]
  },
  {
   "cell_type": "markdown",
   "metadata": {},
   "source": [
    "Define ploting function and plot normalized data.\n"
   ]
  },
  {
   "cell_type": "code",
   "execution_count": null,
   "metadata": {},
   "outputs": [],
   "source": [
    "def plot_avp_prices(X, Y):\n",
    "\tplt.title('Car mileage versus car price')\n",
    "\tplt.scatter(X, Y, label='Actual prices')\n",
    "\tplt.plot(\n",
    "\t\tX, f(X), label='Estimated regression line', color='r', lw=2)\n",
    "\tplt.xlabel('Mileage (Normalized)')\n",
    "\tplt.ylabel('Price (Normalized)')\n",
    "\tplt.xlim(0)\n",
    "\tplt.ylim(0)\n",
    "\tplt.legend()\n",
    "\tplt.show()\n",
    "\n",
    "plot_avp_prices(X, Y)"
   ]
  },
  {
   "cell_type": "markdown",
   "metadata": {},
   "source": [
    "Define the mean squared error (MSE) cost function.\n"
   ]
  },
  {
   "cell_type": "code",
   "execution_count": null,
   "metadata": {},
   "outputs": [],
   "source": [
    "def cost():\n",
    "\treturn (1 / (2 * m)) * sum((f(X) - Y) ** 2)\n"
   ]
  },
  {
   "cell_type": "markdown",
   "metadata": {},
   "source": [
    "Perform a linear regression using gradient descent algorithm.\n"
   ]
  },
  {
   "cell_type": "code",
   "execution_count": null,
   "metadata": {},
   "outputs": [],
   "source": [
    "history = []\n",
    "history.append(cost())\n",
    "def update_weights(epoch):\n",
    "\tglobal theta_0, theta_1, history\n",
    "\twhile epoch > 0:\n",
    "\t\ttmp_theta_0 = (1 / m) * sum(f(X) - Y)\n",
    "\t\ttmp_theta_1 = (1 / m) * sum(X * (f(X) - Y))\n",
    "\t\ttheta_0 -= learning_rate * tmp_theta_0\n",
    "\t\ttheta_1 -= learning_rate * tmp_theta_1\n",
    "\t\thistory.append(cost())\n",
    "\t\tepoch -= 1\n",
    "\tplot_avp_prices(X, Y)\n",
    "\n",
    "update_weights(epochs)\n"
   ]
  },
  {
   "cell_type": "markdown",
   "metadata": {},
   "source": [
    "Adjust theta_0, theta_1, X and Y.\n"
   ]
  },
  {
   "cell_type": "code",
   "execution_count": null,
   "metadata": {},
   "outputs": [],
   "source": [
    "theta_0 *= maxY\n",
    "theta_1 *= maxY / maxX\n",
    "Y = Y * maxY\n",
    "X = X * maxX\n",
    "\n",
    "print(f'theta_0 = {theta_0}, theta_1 = {theta_1}')\n"
   ]
  },
  {
   "cell_type": "markdown",
   "metadata": {},
   "source": [
    "Display cost function values."
   ]
  },
  {
   "cell_type": "code",
   "execution_count": null,
   "metadata": {},
   "outputs": [],
   "source": [
    "plt.plot(history)\n",
    "plt.title(\"Cost versus epochs\")\n",
    "plt.xlabel(\"Epochs\")\n",
    "plt.ylabel(\"Average cost\")\n",
    "plt.xlim(0)\n",
    "plt.ylim(0)\n",
    "plt.show()\n"
   ]
  },
  {
   "cell_type": "markdown",
   "metadata": {},
   "source": [
    "Calculate the algorithm precision."
   ]
  },
  {
   "cell_type": "code",
   "execution_count": null,
   "metadata": {},
   "outputs": [],
   "source": [
    "precision = sum((Y - abs(Y - f(X))) / Y) / m * 100\n",
    "print('precision: %.2f%%' % precision)"
   ]
  }
 ],
 "metadata": {
  "interpreter": {
   "hash": "31f2aee4e71d21fbe5cf8b01ff0e069b9275f58929596ceb00d14d90e3e16cd6"
  },
  "kernelspec": {
   "display_name": "Python 3.9.1 64-bit",
   "language": "python",
   "name": "python3"
  },
  "language_info": {
   "codemirror_mode": {
    "name": "ipython",
    "version": 3
   },
   "file_extension": ".py",
   "mimetype": "text/x-python",
   "name": "python",
   "nbconvert_exporter": "python",
   "pygments_lexer": "ipython3",
   "version": "3.9.1"
  },
  "orig_nbformat": 4
 },
 "nbformat": 4,
 "nbformat_minor": 2
}
