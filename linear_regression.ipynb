{
 "cells": [
  {
   "cell_type": "markdown",
   "metadata": {},
   "source": [
    "# Linear Regression Model"
   ]
  },
  {
   "cell_type": "code",
   "execution_count": null,
   "metadata": {},
   "outputs": [],
   "source": [
    "using CSV, DataFrames, Plots"
   ]
  },
  {
   "cell_type": "markdown",
   "metadata": {},
   "source": [
    "Initialize parameters"
   ]
  },
  {
   "cell_type": "code",
   "execution_count": null,
   "metadata": {},
   "outputs": [],
   "source": [
    "θ0 = 0.0\n",
    "θ1 = 0.0\n",
    "learning_rate = 0.01"
   ]
  },
  {
   "cell_type": "markdown",
   "metadata": {},
   "source": [
    "Define linear regression model"
   ]
  },
  {
   "cell_type": "code",
   "execution_count": null,
   "metadata": {},
   "outputs": [],
   "source": [
    "f(X) = θ0 .+ θ1 * X"
   ]
  },
  {
   "cell_type": "markdown",
   "metadata": {},
   "source": [
    "Plot the data file contents.\n"
   ]
  },
  {
   "cell_type": "code",
   "execution_count": null,
   "metadata": {},
   "outputs": [],
   "source": [
    "data = CSV.File(\"data.csv\") |> DataFrame\n",
    "X = data[1:end, 1]\n",
    "Y = data[1:end, 2]\n",
    "gr̋()\n",
    "plot(X, Y, xlims=(0, 300000), ylims=(0, 9000), ylabel=\"Price (Dollar)\",\n",
    "    xlabel=\"Mileage (Km)\", label=\"\", title=\"Car mileage versus car price\",\n",
    "    seriestype=:scatter, size = (600, 450))\n",
    "plot!(X, f(X), label=\"Predicted prices\", lw=3, color=:red, seriestype=:steppre)"
   ]
  },
  {
   "cell_type": "markdown",
   "metadata": {},
   "source": [
    "Define the mean squared error (MSE) cost function."
   ]
  },
  {
   "cell_type": "code",
   "execution_count": null,
   "metadata": {},
   "outputs": [],
   "source": [
    "m = length(X)\n",
    "cost(θ0, θ1) = (1 / 2m) * sum((f(X) - Y) .^ 2)\n",
    "@show cost(θ0, θ1)"
   ]
  }
 ],
 "metadata": {
  "kernelspec": {
   "display_name": "Julia 1.7.2",
   "language": "julia",
   "name": "julia-1.7"
  },
  "language_info": {
   "file_extension": ".jl",
   "mimetype": "application/julia",
   "name": "julia",
   "version": "1.7.2"
  },
  "orig_nbformat": 4
 },
 "nbformat": 4,
 "nbformat_minor": 2
}
